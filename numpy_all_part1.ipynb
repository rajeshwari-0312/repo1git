{
 "cells": [
  {
   "cell_type": "markdown",
   "id": "c1ee0869-2f0e-4d9c-9c7b-e69260746a5a",
   "metadata": {},
   "source": [
    "## Numpy\n",
    "###### NumPy is a Linear Algebra Library in Python and it is the holy grail and the main building block of Data Science using Python.\n",
    "###### It is bound to several C libraries which makes NumPy one of the fastest libraries in Python.\n",
    "###### It also has functions for working in domain of linear algebra, fourier transform, and matrices.\n",
    "###### NumPy is a Python library and is written partially in Python,but most of the parts that require fast computation are written in C or C++."
   ]
  },
  {
   "cell_type": "markdown",
   "id": "9620d493-6148-40bb-9fab-b43fdc78ea52",
   "metadata": {},
   "source": [
    "### Benefits"
   ]
  },
  {
   "cell_type": "markdown",
   "id": "22e980db-c68a-47a6-b0b1-9ff84732c1f2",
   "metadata": {},
   "source": [
    "#### Benefit 1\n",
    "##### In Python, arrays are a collection of same data types/elements/items (homogeneous) stored in memory Arrays are homogeneous --> similar data types\n",
    "##### Python list that stores elements of different types (for example, integers, strings, and floats), the list needs to store not only the values but also information about the data type of each element. \n",
    "##### This extra information takes up additional memory.\n",
    "#### Benefit 2\n",
    "##### faster computation\n",
    "##### NumPy is a Python library and is written partially in Python,but most of the parts that require fast computation are written in C or C++.\n",
    "#### Benefit 3\n",
    "##### Elementwise operation two lists - vectorized operations not possible in Python using lists"
   ]
  },
  {
   "cell_type": "code",
   "execution_count": 1,
   "id": "aeba48b8-732d-4ac1-96ea-0f7dcaf58274",
   "metadata": {},
   "outputs": [],
   "source": [
    "#importing library\n",
    "import numpy as np"
   ]
  },
  {
   "cell_type": "code",
   "execution_count": 2,
   "id": "4d9de69f-4796-46cc-9f4b-f2a5d26bf5ec",
   "metadata": {},
   "outputs": [
    {
     "data": {
      "text/plain": [
       "[1,\n",
       " 2,\n",
       " 3,\n",
       " 4,\n",
       " 5,\n",
       " 6,\n",
       " 7,\n",
       " 8,\n",
       " 9,\n",
       " 10,\n",
       " 11,\n",
       " 12,\n",
       " 13,\n",
       " 14,\n",
       " 15,\n",
       " 16,\n",
       " 17,\n",
       " 18,\n",
       " 19,\n",
       " 20,\n",
       " 21,\n",
       " 22,\n",
       " 23,\n",
       " 24,\n",
       " 25,\n",
       " 26,\n",
       " 27,\n",
       " 28,\n",
       " 29,\n",
       " 30,\n",
       " 31,\n",
       " 32,\n",
       " 33,\n",
       " 34,\n",
       " 35,\n",
       " 36,\n",
       " 37,\n",
       " 38,\n",
       " 39,\n",
       " 40,\n",
       " 41,\n",
       " 42,\n",
       " 43,\n",
       " 44,\n",
       " 45,\n",
       " 46,\n",
       " 47,\n",
       " 48,\n",
       " 49,\n",
       " 50,\n",
       " 51,\n",
       " 52,\n",
       " 53,\n",
       " 54,\n",
       " 55,\n",
       " 56,\n",
       " 57,\n",
       " 58,\n",
       " 59,\n",
       " 60,\n",
       " 61,\n",
       " 62,\n",
       " 63,\n",
       " 64,\n",
       " 65,\n",
       " 66,\n",
       " 67,\n",
       " 68,\n",
       " 69,\n",
       " 70,\n",
       " 71,\n",
       " 72,\n",
       " 73,\n",
       " 74,\n",
       " 75,\n",
       " 76,\n",
       " 77,\n",
       " 78,\n",
       " 79,\n",
       " 80,\n",
       " 81,\n",
       " 82,\n",
       " 83,\n",
       " 84,\n",
       " 85,\n",
       " 86,\n",
       " 87,\n",
       " 88,\n",
       " 89,\n",
       " 90,\n",
       " 91,\n",
       " 92,\n",
       " 93,\n",
       " 94,\n",
       " 95,\n",
       " 96,\n",
       " 97,\n",
       " 98,\n",
       " 99,\n",
       " 100]"
      ]
     },
     "execution_count": 2,
     "metadata": {},
     "output_type": "execute_result"
    }
   ],
   "source": [
    "#Benefit 1-memory consumption\n",
    "import sys\n",
    "list1 = list(range(1,101))\n",
    "list1"
   ]
  },
  {
   "cell_type": "code",
   "execution_count": 3,
   "id": "a45f4634-6bac-48f2-aa60-0e13d3f74225",
   "metadata": {},
   "outputs": [
    {
     "data": {
      "text/plain": [
       "1"
      ]
     },
     "execution_count": 3,
     "metadata": {},
     "output_type": "execute_result"
    }
   ],
   "source": [
    "list1[0]"
   ]
  },
  {
   "cell_type": "code",
   "execution_count": 4,
   "id": "ba832156-3a45-4570-9ed6-cffb64b9d3e4",
   "metadata": {},
   "outputs": [
    {
     "data": {
      "text/plain": [
       "28"
      ]
     },
     "execution_count": 4,
     "metadata": {},
     "output_type": "execute_result"
    }
   ],
   "source": [
    "sys.getsizeof(list1[0])"
   ]
  },
  {
   "cell_type": "code",
   "execution_count": 5,
   "id": "ad5f2e35-506a-4388-87fd-020a236df4ac",
   "metadata": {},
   "outputs": [
    {
     "data": {
      "text/plain": [
       "2800"
      ]
     },
     "execution_count": 5,
     "metadata": {},
     "output_type": "execute_result"
    }
   ],
   "source": [
    "sys.getsizeof(list1[0])*len(list1)"
   ]
  },
  {
   "cell_type": "code",
   "execution_count": 6,
   "id": "4594adc1-0d75-4c5c-a98c-88923a6e4d40",
   "metadata": {},
   "outputs": [
    {
     "data": {
      "text/plain": [
       "array([  1,   2,   3,   4,   5,   6,   7,   8,   9,  10,  11,  12,  13,\n",
       "        14,  15,  16,  17,  18,  19,  20,  21,  22,  23,  24,  25,  26,\n",
       "        27,  28,  29,  30,  31,  32,  33,  34,  35,  36,  37,  38,  39,\n",
       "        40,  41,  42,  43,  44,  45,  46,  47,  48,  49,  50,  51,  52,\n",
       "        53,  54,  55,  56,  57,  58,  59,  60,  61,  62,  63,  64,  65,\n",
       "        66,  67,  68,  69,  70,  71,  72,  73,  74,  75,  76,  77,  78,\n",
       "        79,  80,  81,  82,  83,  84,  85,  86,  87,  88,  89,  90,  91,\n",
       "        92,  93,  94,  95,  96,  97,  98,  99, 100])"
      ]
     },
     "execution_count": 6,
     "metadata": {},
     "output_type": "execute_result"
    }
   ],
   "source": [
    "import numpy as np\n",
    "arr=np.arange(1,101)\n",
    "arr"
   ]
  },
  {
   "cell_type": "code",
   "execution_count": 7,
   "id": "1a5161a4-b0ad-4ccb-af4f-9d23d6ea0193",
   "metadata": {},
   "outputs": [
    {
     "data": {
      "text/plain": [
       "43"
      ]
     },
     "execution_count": 7,
     "metadata": {},
     "output_type": "execute_result"
    }
   ],
   "source": [
    "arr[42]"
   ]
  },
  {
   "cell_type": "code",
   "execution_count": 8,
   "id": "8d153b71-b5c3-469e-b8a5-c7261f8a7068",
   "metadata": {},
   "outputs": [
    {
     "data": {
      "text/plain": [
       "4"
      ]
     },
     "execution_count": 8,
     "metadata": {},
     "output_type": "execute_result"
    }
   ],
   "source": [
    "arr.itemsize"
   ]
  },
  {
   "cell_type": "code",
   "execution_count": 9,
   "id": "81640c13-be41-4360-835a-bd1b40771be1",
   "metadata": {},
   "outputs": [
    {
     "data": {
      "text/plain": [
       "100"
      ]
     },
     "execution_count": 9,
     "metadata": {},
     "output_type": "execute_result"
    }
   ],
   "source": [
    "arr.size"
   ]
  },
  {
   "cell_type": "code",
   "execution_count": 10,
   "id": "c5bfbb7b-1939-4df7-adb4-c5f7711f1961",
   "metadata": {},
   "outputs": [
    {
     "data": {
      "text/plain": [
       "400"
      ]
     },
     "execution_count": 10,
     "metadata": {},
     "output_type": "execute_result"
    }
   ],
   "source": [
    "arr.nbytes"
   ]
  },
  {
   "cell_type": "code",
   "execution_count": 33,
   "id": "6d9c0c3e-d08c-41c8-bd31-6b3b920b255c",
   "metadata": {},
   "outputs": [
    {
     "name": "stdout",
     "output_type": "stream",
     "text": [
      "0 0\n",
      "1 1\n",
      "2 2\n",
      "3 3\n",
      "4 4\n",
      "5 5\n",
      "6 6\n",
      "7 7\n",
      "8 8\n",
      "9 9\n",
      "10 10\n",
      "11 11\n",
      "12 12\n",
      "13 13\n",
      "14 14\n",
      "15 15\n",
      "16 16\n",
      "17 17\n",
      "18 18\n",
      "19 19\n",
      "20 20\n",
      "21 21\n",
      "22 22\n",
      "23 23\n",
      "24 24\n",
      "25 25\n",
      "26 26\n",
      "27 27\n",
      "28 28\n",
      "29 29\n",
      "30 30\n",
      "31 31\n",
      "32 32\n",
      "33 33\n",
      "34 34\n",
      "35 35\n",
      "36 36\n",
      "37 37\n",
      "38 38\n",
      "39 39\n",
      "40 40\n",
      "41 41\n",
      "42 42\n",
      "43 43\n",
      "44 44\n",
      "45 45\n",
      "46 46\n",
      "47 47\n",
      "48 48\n",
      "49 49\n",
      "50 50\n",
      "51 51\n",
      "52 52\n",
      "53 53\n",
      "54 54\n",
      "55 55\n",
      "56 56\n",
      "57 57\n",
      "58 58\n",
      "59 59\n",
      "60 60\n",
      "61 61\n",
      "62 62\n",
      "63 63\n",
      "64 64\n",
      "65 65\n",
      "66 66\n",
      "67 67\n",
      "68 68\n",
      "69 69\n",
      "70 70\n",
      "71 71\n",
      "72 72\n",
      "73 73\n",
      "74 74\n",
      "75 75\n",
      "76 76\n",
      "77 77\n",
      "78 78\n",
      "79 79\n",
      "80 80\n",
      "81 81\n",
      "82 82\n",
      "83 83\n",
      "84 84\n",
      "85 85\n",
      "86 86\n",
      "87 87\n",
      "88 88\n",
      "89 89\n",
      "90 90\n",
      "91 91\n",
      "92 92\n",
      "93 93\n",
      "94 94\n",
      "95 95\n",
      "96 96\n",
      "97 97\n",
      "98 98\n",
      "99 99\n"
     ]
    }
   ],
   "source": [
    "#Benfit-2 fast computation\n",
    "list1=list(range(100))\n",
    "list2=list(range(100))\n",
    "for x,y in zip(list1,list2):\n",
    "    print(x,y)"
   ]
  },
  {
   "cell_type": "code",
   "execution_count": 12,
   "id": "5f1abc08-ed83-4070-b84d-0d26cfedb3dd",
   "metadata": {},
   "outputs": [
    {
     "data": {
      "text/plain": [
       "[0,\n",
       " 2,\n",
       " 4,\n",
       " 6,\n",
       " 8,\n",
       " 10,\n",
       " 12,\n",
       " 14,\n",
       " 16,\n",
       " 18,\n",
       " 20,\n",
       " 22,\n",
       " 24,\n",
       " 26,\n",
       " 28,\n",
       " 30,\n",
       " 32,\n",
       " 34,\n",
       " 36,\n",
       " 38,\n",
       " 40,\n",
       " 42,\n",
       " 44,\n",
       " 46,\n",
       " 48,\n",
       " 50,\n",
       " 52,\n",
       " 54,\n",
       " 56,\n",
       " 58,\n",
       " 60,\n",
       " 62,\n",
       " 64,\n",
       " 66,\n",
       " 68,\n",
       " 70,\n",
       " 72,\n",
       " 74,\n",
       " 76,\n",
       " 78,\n",
       " 80,\n",
       " 82,\n",
       " 84,\n",
       " 86,\n",
       " 88,\n",
       " 90,\n",
       " 92,\n",
       " 94,\n",
       " 96,\n",
       " 98,\n",
       " 100,\n",
       " 102,\n",
       " 104,\n",
       " 106,\n",
       " 108,\n",
       " 110,\n",
       " 112,\n",
       " 114,\n",
       " 116,\n",
       " 118,\n",
       " 120,\n",
       " 122,\n",
       " 124,\n",
       " 126,\n",
       " 128,\n",
       " 130,\n",
       " 132,\n",
       " 134,\n",
       " 136,\n",
       " 138,\n",
       " 140,\n",
       " 142,\n",
       " 144,\n",
       " 146,\n",
       " 148,\n",
       " 150,\n",
       " 152,\n",
       " 154,\n",
       " 156,\n",
       " 158,\n",
       " 160,\n",
       " 162,\n",
       " 164,\n",
       " 166,\n",
       " 168,\n",
       " 170,\n",
       " 172,\n",
       " 174,\n",
       " 176,\n",
       " 178,\n",
       " 180,\n",
       " 182,\n",
       " 184,\n",
       " 186,\n",
       " 188,\n",
       " 190,\n",
       " 192,\n",
       " 194,\n",
       " 196,\n",
       " 198]"
      ]
     },
     "execution_count": 12,
     "metadata": {},
     "output_type": "execute_result"
    }
   ],
   "source": [
    "sum1=[x+y for x,y in zip(list1,list2)]\n",
    "sum1"
   ]
  },
  {
   "cell_type": "code",
   "execution_count": 36,
   "id": "eb73764b-cdc8-496a-9e4f-e49bc2510d39",
   "metadata": {},
   "outputs": [
    {
     "name": "stdout",
     "output_type": "stream",
     "text": [
      "list time:  0.0010652542114257812\n"
     ]
    }
   ],
   "source": [
    "start = time.time()\n",
    "sum1=[x+y for x,y in zip(list1,list2)]\n",
    "end = time.time()\n",
    "print(\"list time: \", end-start)"
   ]
  },
  {
   "cell_type": "code",
   "execution_count": 47,
   "id": "bbad3756-b113-4e5e-beb2-c587982abd86",
   "metadata": {},
   "outputs": [
    {
     "name": "stdout",
     "output_type": "stream",
     "text": [
      "[ 0  1  2  3  4  5  6  7  8  9 10 11 12 13 14 15 16 17 18 19 20 21 22 23\n",
      " 24 25 26 27 28 29 30 31 32 33 34 35 36 37 38 39 40 41 42 43 44 45 46 47\n",
      " 48 49 50 51 52 53 54 55 56 57 58 59 60 61 62 63 64 65 66 67 68 69 70 71\n",
      " 72 73 74 75 76 77 78 79 80 81 82 83 84 85 86 87 88 89 90 91 92 93 94 95\n",
      " 96 97 98 99] [ 0  1  2  3  4  5  6  7  8  9 10 11 12 13 14 15 16 17 18 19 20 21 22 23\n",
      " 24 25 26 27 28 29 30 31 32 33 34 35 36 37 38 39 40 41 42 43 44 45 46 47\n",
      " 48 49 50 51 52 53 54 55 56 57 58 59 60 61 62 63 64 65 66 67 68 69 70 71\n",
      " 72 73 74 75 76 77 78 79 80 81 82 83 84 85 86 87 88 89 90 91 92 93 94 95\n",
      " 96 97 98 99]\n"
     ]
    }
   ],
   "source": [
    "arr1 = np.arange(100)\n",
    "arr2 = np.arange(100)\n",
    "print(arr1,arr2)"
   ]
  },
  {
   "cell_type": "code",
   "execution_count": 65,
   "id": "a1ebb391-8130-4319-a8fe-663af3811e50",
   "metadata": {},
   "outputs": [
    {
     "name": "stdout",
     "output_type": "stream",
     "text": [
      "Numpy time:  0.000997304916381836\n"
     ]
    }
   ],
   "source": [
    "start = time.time()\n",
    "arr3 = arr1 + arr2\n",
    "end = time.time()\n",
    "print(\"Numpy time: \", end-start)"
   ]
  },
  {
   "cell_type": "code",
   "execution_count": 39,
   "id": "2ca09401-ba48-4e46-b0d0-22211a937881",
   "metadata": {},
   "outputs": [],
   "source": [
    "#benefit-3 supports vectorized operation-elemnet wise operation\n",
    "sum1=[x+y for x,y in zip(list1,list2)]\n",
    "prod1=[x*y for x,y in zip(list1,list2)]"
   ]
  },
  {
   "cell_type": "code",
   "execution_count": 17,
   "id": "b8a05ecd-a07d-4876-ad44-1ab6f93ba9f3",
   "metadata": {},
   "outputs": [
    {
     "data": {
      "text/plain": [
       "array([  0,   2,   4,   6,   8,  10,  12,  14,  16,  18,  20,  22,  24,\n",
       "        26,  28,  30,  32,  34,  36,  38,  40,  42,  44,  46,  48,  50,\n",
       "        52,  54,  56,  58,  60,  62,  64,  66,  68,  70,  72,  74,  76,\n",
       "        78,  80,  82,  84,  86,  88,  90,  92,  94,  96,  98, 100, 102,\n",
       "       104, 106, 108, 110, 112, 114, 116, 118, 120, 122, 124, 126, 128,\n",
       "       130, 132, 134, 136, 138, 140, 142, 144, 146, 148, 150, 152, 154,\n",
       "       156, 158, 160, 162, 164, 166, 168, 170, 172, 174, 176, 178, 180,\n",
       "       182, 184, 186, 188, 190, 192, 194, 196, 198])"
      ]
     },
     "execution_count": 17,
     "metadata": {},
     "output_type": "execute_result"
    }
   ],
   "source": [
    "arr1+arr2"
   ]
  },
  {
   "cell_type": "code",
   "execution_count": 18,
   "id": "18ee2c0f-e9eb-487a-923e-da807b63427e",
   "metadata": {},
   "outputs": [
    {
     "data": {
      "text/plain": [
       "array([   0,    1,    4,    9,   16,   25,   36,   49,   64,   81,  100,\n",
       "        121,  144,  169,  196,  225,  256,  289,  324,  361,  400,  441,\n",
       "        484,  529,  576,  625,  676,  729,  784,  841,  900,  961, 1024,\n",
       "       1089, 1156, 1225, 1296, 1369, 1444, 1521, 1600, 1681, 1764, 1849,\n",
       "       1936, 2025, 2116, 2209, 2304, 2401, 2500, 2601, 2704, 2809, 2916,\n",
       "       3025, 3136, 3249, 3364, 3481, 3600, 3721, 3844, 3969, 4096, 4225,\n",
       "       4356, 4489, 4624, 4761, 4900, 5041, 5184, 5329, 5476, 5625, 5776,\n",
       "       5929, 6084, 6241, 6400, 6561, 6724, 6889, 7056, 7225, 7396, 7569,\n",
       "       7744, 7921, 8100, 8281, 8464, 8649, 8836, 9025, 9216, 9409, 9604,\n",
       "       9801])"
      ]
     },
     "execution_count": 18,
     "metadata": {},
     "output_type": "execute_result"
    }
   ],
   "source": [
    "arr1*arr2"
   ]
  },
  {
   "cell_type": "code",
   "execution_count": 19,
   "id": "39e295df-77b8-4141-8711-6976f7da841c",
   "metadata": {},
   "outputs": [
    {
     "data": {
      "text/plain": [
       "array([], dtype=float64)"
      ]
     },
     "execution_count": 19,
     "metadata": {},
     "output_type": "execute_result"
    }
   ],
   "source": [
    "#creation of empty array\n",
    "arr1 = np.array([])   # create an empty array\n",
    "arr1"
   ]
  },
  {
   "cell_type": "code",
   "execution_count": 20,
   "id": "19324f4c-2af2-43b6-82c4-4c1292bced52",
   "metadata": {},
   "outputs": [
    {
     "data": {
      "text/plain": [
       "array([1., 2., 3.])"
      ]
     },
     "execution_count": 20,
     "metadata": {},
     "output_type": "execute_result"
    }
   ],
   "source": [
    "#np.append(arr, [new_elements])\n",
    "arr1=np.append(arr1, [1, 2, 3])\n",
    "arr1#by default creates elements of float type"
   ]
  },
  {
   "cell_type": "code",
   "execution_count": 21,
   "id": "90b3c75d-3e5d-41d7-b74c-1dde26a7eb32",
   "metadata": {},
   "outputs": [
    {
     "data": {
      "text/plain": [
       "array([ 1.,  2., 10.,  3.])"
      ]
     },
     "execution_count": 21,
     "metadata": {},
     "output_type": "execute_result"
    }
   ],
   "source": [
    "#np.insert(arr, index, value)\n",
    "arr1=np.insert(arr1,2,10)\n",
    "arr1"
   ]
  },
  {
   "cell_type": "code",
   "execution_count": 22,
   "id": "e397a12d-cd3d-4d39-b12f-062ed603ab06",
   "metadata": {},
   "outputs": [
    {
     "data": {
      "text/plain": [
       "array([ 1.,  2., 20., 15., 10.,  3.])"
      ]
     },
     "execution_count": 22,
     "metadata": {},
     "output_type": "execute_result"
    }
   ],
   "source": [
    "arr1=np.insert(arr1,2,[20,15])\n",
    "arr1"
   ]
  },
  {
   "cell_type": "code",
   "execution_count": 23,
   "id": "62b588a3-c964-47eb-a816-9ba4bdd16771",
   "metadata": {},
   "outputs": [
    {
     "data": {
      "text/plain": [
       "array([ 1., 20., 15., 10.,  3.])"
      ]
     },
     "execution_count": 23,
     "metadata": {},
     "output_type": "execute_result"
    }
   ],
   "source": [
    "arr1=np.delete(arr1, 1)\n",
    "arr1"
   ]
  },
  {
   "cell_type": "code",
   "execution_count": 24,
   "id": "9205ea65-b873-46ab-bcfc-627b76a4d50c",
   "metadata": {},
   "outputs": [
    {
     "data": {
      "text/plain": [
       "array([ 1., 15., 10.])"
      ]
     },
     "execution_count": 24,
     "metadata": {},
     "output_type": "execute_result"
    }
   ],
   "source": [
    "arr1=np.delete(arr1,[1,4])\n",
    "arr1"
   ]
  },
  {
   "cell_type": "code",
   "execution_count": 69,
   "id": "481ec1ae-b557-467a-bfdf-51173a090935",
   "metadata": {},
   "outputs": [],
   "source": [
    "arr2 = np.array([], dtype=int)"
   ]
  },
  {
   "cell_type": "code",
   "execution_count": 70,
   "id": "8bc9a6e1-ad4b-4787-82d6-95ccd0acb224",
   "metadata": {},
   "outputs": [
    {
     "name": "stdout",
     "output_type": "stream",
     "text": [
      "[1 2 3]\n"
     ]
    }
   ],
   "source": [
    "arr2 = np.append(arr2, [1, 2, 3])\n",
    "print(arr2)"
   ]
  },
  {
   "cell_type": "code",
   "execution_count": 68,
   "id": "b17b292d-fd93-4234-9e5a-dd3ba21ea371",
   "metadata": {},
   "outputs": [
    {
     "name": "stdout",
     "output_type": "stream",
     "text": [
      "[ 0  1  2  3  4  5  6  7  8  9 10 11 12 13 14 15 16 17 18 19 20 21 22 23\n",
      " 24 25 26 27 28 29 30 31 32 33 34 35 36 37 38 39 40 41 42 43 44 45 46 47\n",
      " 48 49 50 51 52 53 54 55 56 57 58 59 60 61 62 63 64 65 66 67 68 69 70 71\n",
      " 72 73 74 75 76 77 78 79 80 81 82 83 84 85 86 87 88 89 90 91 92 93 94 95\n",
      " 96 97 98 99  1  2  3]\n"
     ]
    }
   ],
   "source": [
    "arr2 = np.array([], dtype=int)\n",
    "arr2 = np.append(arr, [1, 2, 3])\n",
    "print(arr2)"
   ]
  },
  {
   "cell_type": "code",
   "execution_count": 26,
   "id": "5a457068-5af3-4dd6-97c5-6e2a4665e53b",
   "metadata": {},
   "outputs": [],
   "source": [
    "#try insert and delete"
   ]
  },
  {
   "cell_type": "markdown",
   "id": "e39e76d2-d10a-4afd-8729-00d48bbf0f4a",
   "metadata": {},
   "source": [
    "### Creation of 1D array"
   ]
  },
  {
   "cell_type": "code",
   "execution_count": 27,
   "id": "ae506638-5eee-4713-b87e-f766415777d5",
   "metadata": {},
   "outputs": [
    {
     "name": "stdout",
     "output_type": "stream",
     "text": [
      "[ 1  2  3 10 20 15]\n",
      "<class 'numpy.ndarray'>\n"
     ]
    },
    {
     "data": {
      "text/plain": [
       "array([ 1,  2,  3, 10, 20, 15])"
      ]
     },
     "execution_count": 27,
     "metadata": {},
     "output_type": "execute_result"
    }
   ],
   "source": [
    "arr1=np.array([1,2,3,10,20,15])\n",
    "print(arr1)\n",
    "print(type(arr1))\n",
    "arr1"
   ]
  },
  {
   "cell_type": "markdown",
   "id": "a890d287-5570-4689-b085-b0ba65cb066c",
   "metadata": {},
   "source": [
    "#### array inspection\n",
    "\"\"\"\n",
    "ndim: number of dimensions\n",
    "\n",
    "shape:returns a tuple with each index having the number of corresponding elements\n",
    "\n",
    "size: it counts the no. of elements along a given axis, by default it will count total no. of elements in array\n",
    "\n",
    "dtype: data type of array elements\n",
    "\n",
    "itemsize: byte size of each array element\n",
    "\n",
    "nbytes: total size of array and it is equal to itemsize X size\n",
    "\"\"\""
   ]
  },
  {
   "cell_type": "code",
   "execution_count": 28,
   "id": "79ecde70-714e-4932-bd3e-5e4bd42951c5",
   "metadata": {},
   "outputs": [
    {
     "name": "stdout",
     "output_type": "stream",
     "text": [
      "[ 1  2  3 10 20 15]\n",
      "1\n",
      "(6,)\n",
      "6\n",
      "int32\n",
      "4\n",
      "24\n"
     ]
    }
   ],
   "source": [
    "print(arr1)\n",
    "print(arr1.ndim)\n",
    "print(arr1.shape)\n",
    "print(arr1.size)\n",
    "print(arr1.dtype)\n",
    "print(arr1.itemsize)\n",
    "print(arr1.nbytes)#size*itemsize"
   ]
  },
  {
   "cell_type": "markdown",
   "id": "01a0f242-f484-4d16-a52b-bbc8136941ac",
   "metadata": {},
   "source": [
    "#### Creation of 2D array"
   ]
  },
  {
   "cell_type": "code",
   "execution_count": 29,
   "id": "19ad4bf4-5327-425a-b7cc-0906bf7594c6",
   "metadata": {},
   "outputs": [
    {
     "name": "stdout",
     "output_type": "stream",
     "text": [
      "[[23 89 90]\n",
      " [23 92 12]\n",
      " [23 14 90]]\n"
     ]
    }
   ],
   "source": [
    "arr2=np.array([[23,89,90],[23,92,12],[23,14,90]])#looks like nested lists\n",
    "print(arr2)#stack of 1D array"
   ]
  },
  {
   "cell_type": "code",
   "execution_count": 30,
   "id": "8547dd10-28f1-442e-a6e4-47dab925f622",
   "metadata": {},
   "outputs": [
    {
     "name": "stdout",
     "output_type": "stream",
     "text": [
      "2\n",
      "(3, 3)\n",
      "9\n",
      "int32\n",
      "4\n",
      "36\n"
     ]
    }
   ],
   "source": [
    "print(arr2.ndim)\n",
    "print(arr2.shape)#returns row,column\n",
    "print(arr2.size)\n",
    "print(arr2.dtype)\n",
    "print(arr2.itemsize)\n",
    "print(arr2.nbytes)"
   ]
  },
  {
   "cell_type": "markdown",
   "id": "f1c24edc-cb62-4b7f-bddd-0afe3b7decee",
   "metadata": {},
   "source": [
    "#### Creation of 3D array"
   ]
  },
  {
   "cell_type": "code",
   "execution_count": 1,
   "id": "9b2add6d-92c2-466d-91f3-6a9214ddc393",
   "metadata": {},
   "outputs": [
    {
     "name": "stdout",
     "output_type": "stream",
     "text": [
      "[[[ 1  2  3]\n",
      "  [ 4  5  6]]\n",
      "\n",
      " [[ 7  8  9]\n",
      "  [10 11 12]]\n",
      "\n",
      " [[ 1  4  3]\n",
      "  [ 4  5  6]]]\n"
     ]
    }
   ],
   "source": [
    "import numpy as np\n",
    "arr3=np.array([[[1,2,3],[4,5,6]],[[7,8,9],[10,11,12]],[[1,4,3],[4,5,6]]])#stack of 2D arrays\n",
    "print(arr3)"
   ]
  },
  {
   "cell_type": "code",
   "execution_count": 32,
   "id": "f8ad5cb2-6b16-43fa-b7f5-42b093331870",
   "metadata": {},
   "outputs": [
    {
     "name": "stdout",
     "output_type": "stream",
     "text": [
      "3\n",
      "(2, 2, 3)\n",
      "12\n",
      "int32\n",
      "4\n",
      "48\n"
     ]
    }
   ],
   "source": [
    "print(arr3.ndim)\n",
    "print(arr3.shape)#returns layers,rows,columns\n",
    "print(arr3.size)\n",
    "print(arr3.dtype)\n",
    "print(arr3.itemsize)\n",
    "print(arr3.nbytes)"
   ]
  },
  {
   "cell_type": "code",
   "execution_count": null,
   "id": "02641093-75c2-48a4-a954-718787d2b2f8",
   "metadata": {},
   "outputs": [],
   "source": []
  }
 ],
 "metadata": {
  "kernelspec": {
   "display_name": "Python 3 (ipykernel)",
   "language": "python",
   "name": "python3"
  },
  "language_info": {
   "codemirror_mode": {
    "name": "ipython",
    "version": 3
   },
   "file_extension": ".py",
   "mimetype": "text/x-python",
   "name": "python",
   "nbconvert_exporter": "python",
   "pygments_lexer": "ipython3",
   "version": "3.11.5"
  }
 },
 "nbformat": 4,
 "nbformat_minor": 5
}
